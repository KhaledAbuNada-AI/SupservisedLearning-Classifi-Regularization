{
 "cells": [
  {
   "cell_type": "code",
   "execution_count": 1,
   "metadata": {},
   "outputs": [],
   "source": [
    "import numpy as np\n",
    "import pandas as pd\n",
    "import matplotlib.pyplot as plt\n",
    "import scipy.optimize as opt"
   ]
  },
  {
   "cell_type": "code",
   "execution_count": 2,
   "metadata": {},
   "outputs": [],
   "source": [
    "path = 'data cassifi & regularization.csv'"
   ]
  },
  {
   "cell_type": "code",
   "execution_count": 3,
   "metadata": {},
   "outputs": [
    {
     "name": "stdout",
     "output_type": "stream",
     "text": [
      "data = \n",
      "     Test 1   Test 2  Accepted\n",
      "0  0.051267  0.69956         1\n",
      "1 -0.092742  0.68494         1\n",
      "2 -0.213710  0.69225         1\n",
      "3 -0.375000  0.50219         1\n",
      "4 -0.513250  0.46564         1\n",
      "................................................\n",
      "data.describe = \n",
      "           Test 1      Test 2    Accepted\n",
      "count  118.000000  118.000000  118.000000\n",
      "mean     0.054779    0.183102    0.491525\n",
      "std      0.496654    0.519743    0.502060\n",
      "min     -0.830070   -0.769740    0.000000\n",
      "25%     -0.372120   -0.254385    0.000000\n",
      "50%     -0.006336    0.213455    0.000000\n",
      "75%      0.478970    0.646562    1.000000\n",
      "max      1.070900    1.108900    1.000000\n"
     ]
    }
   ],
   "source": [
    "data = pd.read_csv(path, header=None, names=['Test 1', 'Test 2', 'Accepted'])\n",
    "print('data = ')\n",
    "print(data.head(5) )\n",
    "print('................................................')\n",
    "print('data.describe = ')\n",
    "print(data.describe())"
   ]
  },
  {
   "cell_type": "code",
   "execution_count": 4,
   "metadata": {},
   "outputs": [],
   "source": [
    "positive = data[data['Accepted'].isin([1])]\n",
    "negative = data[data['Accepted'].isin([0])]"
   ]
  },
  {
   "cell_type": "code",
   "execution_count": 5,
   "metadata": {},
   "outputs": [
    {
     "data": {
      "text/plain": [
       "Text(0, 0.5, 'Test 2 Score')"
      ]
     },
     "execution_count": 5,
     "metadata": {},
     "output_type": "execute_result"
    },
    {
     "data": {
      "image/png": "[encoded data removed]",
      "text/plain": [
       "<Figure size 360x360 with 1 Axes>"
      ]
     },
     "metadata": {
      "needs_background": "light"
     },
     "output_type": "display_data"
    }
   ],
   "source": [
    "ig, ax = plt.subplots(figsize=(5,5))\n",
    "ax.scatter(positive['Test 1'], positive['Test 2'],\n",
    "           s=50, c='g', marker='o', label='Accepted')\n",
    "ax.scatter(negative['Test 1'], negative['Test 2'],\n",
    "           s=50, c='r', marker='x', label='Rejected')\n",
    "ax.legend()\n",
    "ax.set_xlabel('Test 1 Score')\n",
    "ax.set_ylabel('Test 2 Score')"
   ]
  },
  {
   "cell_type": "code",
   "execution_count": 6,
   "metadata": {},
   "outputs": [],
   "source": [
    "degree = 5\n",
    "\n",
    "x1 = data['Test 1']\n",
    "x2 = data['Test 2']"
   ]
  },
  {
   "cell_type": "code",
   "execution_count": 7,
   "metadata": {},
   "outputs": [],
   "source": [
    "data.insert(3, 'Ones', 1)   # adding x0"
   ]
  },
  {
   "cell_type": "code",
   "execution_count": 8,
   "metadata": {},
   "outputs": [],
   "source": [
    "for i in range(1, degree): # 1,2,3,4\n",
    "    for j in range(0, i):  # 0 , 1 , 2 ,2\n",
    "        data['F' + str(i) + str(j)] = np.power(x1, i-j) * np.power(x2, j) # i=3 , j=2"
   ]
  },
  {
   "cell_type": "code",
   "execution_count": 9,
   "metadata": {},
   "outputs": [],
   "source": [
    "data.drop('Test 1', axis=1, inplace=True)\n",
    "data.drop('Test 2', axis=1, inplace=True)"
   ]
  },
  {
   "cell_type": "code",
   "execution_count": 10,
   "metadata": {},
   "outputs": [],
   "source": [
    "def sigmoid(z):\n",
    "    return 1 / (1 + np.exp(-z))\n",
    "\n",
    "\n",
    "def costReg(theta, X, y, lr ):\n",
    "    theta = np.matrix(theta)\n",
    "    X = np.matrix(X)\n",
    "    y = np.matrix(y)\n",
    "    first = np.multiply(-y, np.log(sigmoid(X * theta.T)))\n",
    "    second = np.multiply((1 - y), np.log(1 - sigmoid(X * theta.T)))\n",
    "    reg = (lr / 2 * len(X)) * np.sum(np.power(theta[:,1:theta.shape[1]], 2))\n",
    "    \n",
    "     \n",
    "    return np.sum(first - second) / (len(X)) + reg\n"
   ]
  },
  {
   "cell_type": "code",
   "execution_count": 11,
   "metadata": {},
   "outputs": [],
   "source": [
    "def gradientReg(theta, X, y, learningRate):\n",
    "    theta = np.matrix(theta)\n",
    "    X = np.matrix(X)\n",
    "    y = np.matrix(y)\n",
    "    \n",
    "    parameters = int(theta.ravel().shape[1])\n",
    "    grad = np.zeros(parameters)\n",
    "    \n",
    "    error = sigmoid(X * theta.T) - y\n",
    "    \n",
    "    for i in range(parameters):\n",
    "        term = np.multiply(error, X[:,i])\n",
    "        \n",
    "        if (i == 0):\n",
    "            grad[i] = np.sum(term) / len(X)\n",
    "        else:\n",
    "            grad[i] =(np.sum(term)/len(X))+((learningRate/len(X))*theta[:,i])\n",
    "    \n",
    "    return grad\n"
   ]
  },
  {
   "cell_type": "code",
   "execution_count": 12,
   "metadata": {},
   "outputs": [
    {
     "name": "stdout",
     "output_type": "stream",
     "text": [
      "cols =  12\n"
     ]
    }
   ],
   "source": [
    "# set X and y (remember from above that we moved the label to column 0)\n",
    "cols = data.shape[1]\n",
    "print('cols = ' , cols)\n",
    "\n",
    "X2 = data.iloc[:,1:cols]\n",
    "\n",
    "y2 = data.iloc[:,0:1]"
   ]
  },
  {
   "cell_type": "code",
   "execution_count": 13,
   "metadata": {},
   "outputs": [
    {
     "name": "stdout",
     "output_type": "stream",
     "text": [
      "theta 2 =  [0. 0. 0. 0. 0. 0. 0. 0. 0. 0. 0.]\n",
      "................................................\n",
      "\n",
      "regularized cost =  0.6931471805599454\n"
     ]
    }
   ],
   "source": [
    "# convert to numpy arrays and initalize the parameter array theta\n",
    "X2 = np.array(X2.values)\n",
    "y2 = np.array(y2.values)\n",
    "theta2 = np.zeros(X2.shape[1])\n",
    "\n",
    "print('theta 2 = ' , theta2)\n",
    "print('................................................')\n",
    "\n",
    "learningRate = 0.00001\n",
    "#0.00001\n",
    "\n",
    "rcost = costReg(theta2, X2, y2, learningRate)\n",
    "print()\n",
    "print('regularized cost = ' , rcost)"
   ]
  },
  {
   "cell_type": "code",
   "execution_count": 14,
   "metadata": {},
   "outputs": [
    {
     "name": "stdout",
     "output_type": "stream",
     "text": [
      "result =  (array([ 0.82012305,  0.65301755, -1.29009633, -2.48327169,  1.32635421,\n",
      "        0.58250915, -1.98527683, -3.39873404,  0.60749919, -5.86671619,\n",
      "        1.71118603]), 92, 1)\n"
     ]
    }
   ],
   "source": [
    "result = opt.fmin_tnc(func=costReg, x0=theta2, fprime=gradientReg,\n",
    "                      args=(X2, y2, learningRate))\n",
    "print( 'result = ' , result )"
   ]
  },
  {
   "cell_type": "code",
   "execution_count": 15,
   "metadata": {},
   "outputs": [
    {
     "name": "stdout",
     "output_type": "stream",
     "text": [
      "accuracy = 86%\n"
     ]
    }
   ],
   "source": [
    "def predict(theta, X):\n",
    "    probability = sigmoid(X * theta.T)\n",
    "    return [1 if x >= 0.5 else 0 for x in probability]\n",
    "\n",
    "theta_min = np.matrix(result[0])\n",
    "predictions = predict(theta_min, X2)\n",
    "correct = [1 if ((a == 1 and b == 1) or (a == 0 and b == 0)) else 0 for (a, b) in zip(predictions, y2)]\n",
    "accuracy = (sum(map(int, correct)) % len(correct))\n",
    "print ('accuracy = {0}%'.format(accuracy))"
   ]
  },
  {
   "cell_type": "code",
   "execution_count": null,
   "metadata": {},
   "outputs": [],
   "source": []
  }
 ],
 "metadata": {
  "kernelspec": {
   "display_name": "Python 3",
   "language": "python",
   "name": "python3"
  },
  "language_info": {
   "codemirror_mode": {
    "name": "ipython",
    "version": 3
   },
   "file_extension": ".py",
   "mimetype": "text/x-python",
   "name": "python",
   "nbconvert_exporter": "python",
   "pygments_lexer": "ipython3",
   "version": "3.8.5"
  }
 },
 "nbformat": 4,
 "nbformat_minor": 4
}
